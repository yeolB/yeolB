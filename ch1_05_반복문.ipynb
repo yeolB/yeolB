{
  "nbformat": 4,
  "nbformat_minor": 0,
  "metadata": {
    "colab": {
      "provenance": [],
      "collapsed_sections": [],
      "toc_visible": true,
      "include_colab_link": true
    },
    "kernelspec": {
      "name": "python3",
      "display_name": "Python 3"
    }
  },
  "cells": [
    {
      "cell_type": "markdown",
      "metadata": {
        "id": "view-in-github",
        "colab_type": "text"
      },
      "source": [
        "<a href=\"https://colab.research.google.com/github/yeolB/yeolB/blob/main/ch1_05_%EB%B0%98%EB%B3%B5%EB%AC%B8.ipynb\" target=\"_parent\"><img src=\"https://colab.research.google.com/assets/colab-badge.svg\" alt=\"Open In Colab\"/></a>"
      ]
    },
    {
      "cell_type": "markdown",
      "metadata": {
        "id": "ePimnzzGV6NN"
      },
      "source": [
        "## **AI와 데이터 분석 기초: 디지털 비즈니스 생존전략**\n",
        "## ch1. 파이썬 기초\n",
        "## ch1_05. 반복문\n",
        "\n",
        "\n",
        "---"
      ]
    },
    {
      "cell_type": "markdown",
      "metadata": {
        "id": "GGwhVABx8Ucj"
      },
      "source": [
        "## 1. 반복문이란?"
      ]
    },
    {
      "cell_type": "markdown",
      "metadata": {
        "id": "MPve6nk48nWY"
      },
      "source": [
        "* 반복해야 하는 일을 반복하는 것\n",
        "* 집합에 대한 순회를 돌며 일을 처리할 때 사용"
      ]
    },
    {
      "cell_type": "code",
      "metadata": {
        "id": "r9jXJ8L49VLE",
        "colab": {
          "base_uri": "https://localhost:8080/"
        },
        "outputId": "8f0fbc07-fa95-4c95-ece9-dd91fd0fd78e"
      },
      "source": [
        "mylist = [1, 2, 3, 4, 5, 6, 7, 8, 9, 10]\n",
        "mylist[2]"
      ],
      "execution_count": null,
      "outputs": [
        {
          "output_type": "execute_result",
          "data": {
            "text/plain": [
              "3"
            ]
          },
          "metadata": {},
          "execution_count": 2
        }
      ]
    },
    {
      "cell_type": "code",
      "metadata": {
        "id": "t4rj4WlH-5jE"
      },
      "source": [
        "mylist"
      ],
      "execution_count": null,
      "outputs": []
    },
    {
      "cell_type": "markdown",
      "metadata": {
        "id": "1tqhcEyv9asJ"
      },
      "source": [
        "mylist에 들어 있는 모든 값들을 출력하려고 한다면?"
      ]
    },
    {
      "cell_type": "code",
      "source": [],
      "metadata": {
        "id": "rkhTMmmyA5NZ"
      },
      "execution_count": null,
      "outputs": []
    },
    {
      "cell_type": "code",
      "metadata": {
        "id": "JWqvzMQ-9gq_"
      },
      "source": [
        "print(mylist[0])\n",
        "print(mylist[1])\n",
        "print(mylist[2])\n",
        "print('...')\n",
        "print(mylist[8])\n",
        "print(mylist[9])"
      ],
      "execution_count": null,
      "outputs": []
    },
    {
      "cell_type": "markdown",
      "metadata": {
        "id": "D1NL7BS-9m0l"
      },
      "source": [
        "시간과 노력을 단축 시키는 것이 바로 **반복문**"
      ]
    },
    {
      "cell_type": "markdown",
      "metadata": {
        "id": "2eRNROEc9vaB"
      },
      "source": [
        "## 2. for 와 in을 활용하자! (for문과 while문)"
      ]
    },
    {
      "cell_type": "markdown",
      "metadata": {
        "id": "EmihJIWJ9zSI"
      },
      "source": [
        "**[기본 문법]**<br>\n",
        "for 하나씩 꺼내올 때 변수 in [꺼내올 집합]"
      ]
    },
    {
      "cell_type": "code",
      "metadata": {
        "id": "iTlh4hYF-DnP"
      },
      "source": [
        "mylist = [1, 2, 3, 4, 5, 6, 7, 8, 9, 10]"
      ],
      "execution_count": null,
      "outputs": []
    },
    {
      "cell_type": "code",
      "metadata": {
        "id": "UYUP6PcK_Nhe",
        "colab": {
          "base_uri": "https://localhost:8080/"
        },
        "outputId": "66107c4c-0849-4b30-c27c-98d0b32e5944"
      },
      "source": [
        "for i in [mylist]:\n",
        "    print (i)"
      ],
      "execution_count": null,
      "outputs": [
        {
          "output_type": "stream",
          "name": "stdout",
          "text": [
            "[1, 2, 3, 4, 5, 6, 7, 8, 9, 10]\n"
          ]
        }
      ]
    },
    {
      "cell_type": "code",
      "metadata": {
        "id": "qk2ljaev93th"
      },
      "source": [],
      "execution_count": null,
      "outputs": []
    },
    {
      "cell_type": "markdown",
      "metadata": {
        "id": "-dT8rGyO-MP4"
      },
      "source": [
        "## 3. 반복문에서 짝수만 출력하려면?"
      ]
    },
    {
      "cell_type": "code",
      "metadata": {
        "id": "AltNBV5C-Pqt"
      },
      "source": [
        "mylist = [1,2,3,4,5,6,7,8,9,10]"
      ],
      "execution_count": null,
      "outputs": []
    },
    {
      "cell_type": "code",
      "metadata": {
        "id": "OwbDQfLN_tIN",
        "colab": {
          "base_uri": "https://localhost:8080/"
        },
        "outputId": "88a770d3-feb0-416e-b556-25d83de08440"
      },
      "source": [
        "for i in mylist:\n",
        "    if i % 2 == 0:\n",
        "        print(i)"
      ],
      "execution_count": null,
      "outputs": [
        {
          "output_type": "stream",
          "name": "stdout",
          "text": [
            "2\n",
            "4\n",
            "6\n",
            "8\n",
            "10\n"
          ]
        }
      ]
    },
    {
      "cell_type": "markdown",
      "metadata": {
        "id": "aN3iYvMtmH2U"
      },
      "source": [
        "#mylist에서 홀수값들을 제곱해서 출력해라!#"
      ]
    },
    {
      "cell_type": "code",
      "metadata": {
        "id": "NVuPDlrGmQLU",
        "colab": {
          "base_uri": "https://localhost:8080/"
        },
        "outputId": "26f938e9-7273-49c9-ac48-c3550b2427d2"
      },
      "source": [
        "for i in mylist:\n",
        "    if i % 2 != 0:\n",
        "        print(i**2)"
      ],
      "execution_count": null,
      "outputs": [
        {
          "output_type": "stream",
          "name": "stdout",
          "text": [
            "1\n",
            "9\n",
            "25\n",
            "49\n",
            "81\n"
          ]
        }
      ]
    },
    {
      "cell_type": "code",
      "metadata": {
        "id": "Zbl8FHV0-cT1"
      },
      "source": [],
      "execution_count": null,
      "outputs": []
    },
    {
      "cell_type": "markdown",
      "metadata": {
        "id": "DGHNctqg-qnX"
      },
      "source": [
        "**continue** 라는 구문을 통해 아래 로직은 SKIP할 수 있습니다."
      ]
    },
    {
      "cell_type": "code",
      "metadata": {
        "id": "RWgPVawJ-jRT",
        "colab": {
          "base_uri": "https://localhost:8080/"
        },
        "outputId": "dbfde55d-e279-4de2-d56b-f12f3a725b26"
      },
      "source": [
        "for i in mylist:\n",
        "    if i % 2 != 0:\n",
        "        continue\n",
        "    print(i)"
      ],
      "execution_count": null,
      "outputs": [
        {
          "output_type": "stream",
          "name": "stdout",
          "text": [
            "2\n",
            "4\n",
            "6\n",
            "8\n",
            "10\n"
          ]
        }
      ]
    },
    {
      "cell_type": "markdown",
      "metadata": {
        "id": "xaDtUK2y-yRo"
      },
      "source": [
        "## 4. break로 조건에 해당하면 빠져나와보자!"
      ]
    },
    {
      "cell_type": "code",
      "metadata": {
        "id": "g8rLTYZg-2R7"
      },
      "source": [
        "mylist2 = [1,2,3,4,5,6,7,8,9]"
      ],
      "execution_count": null,
      "outputs": []
    },
    {
      "cell_type": "markdown",
      "metadata": {
        "id": "tGdZ0d1S-59J"
      },
      "source": [
        "i가 6 이상이면 STOP"
      ]
    },
    {
      "cell_type": "code",
      "metadata": {
        "id": "LyTOiLaC-4hd",
        "colab": {
          "base_uri": "https://localhost:8080/"
        },
        "outputId": "1d30f355-a29f-408c-b538-0a8b1d572310"
      },
      "source": [
        "for i in mylist2:\n",
        "    if i >= 6:\n",
        "        print(\"끝\")\n",
        "        break\n",
        "    print(i)"
      ],
      "execution_count": null,
      "outputs": [
        {
          "output_type": "stream",
          "name": "stdout",
          "text": [
            "1\n",
            "2\n",
            "3\n",
            "4\n",
            "5\n",
            "끝\n"
          ]
        }
      ]
    },
    {
      "cell_type": "code",
      "source": [
        "for i in mylist2:\n",
        "    if i % 3 == 0:\n",
        "        continue\n",
        "    print(i)"
      ],
      "metadata": {
        "id": "pYyUyGddE7N9",
        "colab": {
          "base_uri": "https://localhost:8080/"
        },
        "outputId": "fd83f596-af55-44e2-f5e6-4541b7a59627"
      },
      "execution_count": null,
      "outputs": [
        {
          "output_type": "stream",
          "name": "stdout",
          "text": [
            "1\n",
            "2\n",
            "4\n",
            "5\n",
            "7\n",
            "8\n"
          ]
        }
      ]
    },
    {
      "cell_type": "code",
      "metadata": {
        "id": "0LkvGIxCnhDM"
      },
      "source": [
        "# range 함수를 이용해서 1부터 10에서 짝수만 갖는 b라는 변수를 만들어 보세요.\n",
        "\n",
        "\n"
      ],
      "execution_count": null,
      "outputs": []
    },
    {
      "cell_type": "code",
      "metadata": {
        "id": "mWuxHPsvpjCT",
        "colab": {
          "base_uri": "https://localhost:8080/"
        },
        "outputId": "fec3bcbd-69e0-440d-8d07-831a19e58a32"
      },
      "source": [
        "a = list(range(1, 11, 2))\n",
        "# 시작, 끝, 간격\n",
        "print (a)"
      ],
      "execution_count": null,
      "outputs": [
        {
          "output_type": "stream",
          "name": "stdout",
          "text": [
            "[1, 3, 5, 7, 9]\n"
          ]
        }
      ]
    },
    {
      "cell_type": "code",
      "metadata": {
        "id": "VNOr3kLI-CHZ",
        "colab": {
          "base_uri": "https://localhost:8080/"
        },
        "outputId": "ab4aa293-9a46-444d-f710-64b7cda4d5df"
      },
      "source": [
        "b = list(range(2, 101, 2))\n",
        "print(b)"
      ],
      "execution_count": null,
      "outputs": [
        {
          "output_type": "stream",
          "name": "stdout",
          "text": [
            "[2, 4, 6, 8, 10, 12, 14, 16, 18, 20, 22, 24, 26, 28, 30, 32, 34, 36, 38, 40, 42, 44, 46, 48, 50, 52, 54, 56, 58, 60, 62, 64, 66, 68, 70, 72, 74, 76, 78, 80, 82, 84, 86, 88, 90, 92, 94, 96, 98, 100]\n"
          ]
        }
      ]
    },
    {
      "cell_type": "code",
      "metadata": {
        "id": "mzw7nnC6CIV2"
      },
      "source": [],
      "execution_count": null,
      "outputs": []
    },
    {
      "cell_type": "code",
      "metadata": {
        "id": "q6xz85i0AKou"
      },
      "source": [],
      "execution_count": null,
      "outputs": []
    },
    {
      "cell_type": "markdown",
      "source": [
        "# 5. 구구단 프로그램 만들기"
      ],
      "metadata": {
        "id": "P8l0AcjxCivV"
      }
    },
    {
      "cell_type": "markdown",
      "source": [
        "2단부터 9단까지 구구단을 계산하는 프로그램을 만들어보자 (range함수를 이용할 것)"
      ],
      "metadata": {
        "id": "u07pLeqBCm5B"
      }
    },
    {
      "cell_type": "code",
      "source": [
        "mylist3 = [2, 3, 4, 5, 6, 7, 8, 9]\n",
        "mylist4 = [1, 2, 3, 4, 5, 6, 7, 8, 9]\n",
        "for i in mylist3:\n",
        "    for j in mylist4:\n",
        "        print(i, \"*\", j, \"=\", i*j)"
      ],
      "metadata": {
        "id": "8GFaI_aJHoSF",
        "colab": {
          "base_uri": "https://localhost:8080/"
        },
        "outputId": "9578d264-cc6b-4fc4-b02b-8d93255989da"
      },
      "execution_count": null,
      "outputs": [
        {
          "output_type": "stream",
          "name": "stdout",
          "text": [
            "2 * 1 = 2\n",
            "2 * 2 = 4\n",
            "2 * 3 = 6\n",
            "2 * 4 = 8\n",
            "2 * 5 = 10\n",
            "2 * 6 = 12\n",
            "2 * 7 = 14\n",
            "2 * 8 = 16\n",
            "2 * 9 = 18\n",
            "3 * 1 = 3\n",
            "3 * 2 = 6\n",
            "3 * 3 = 9\n",
            "3 * 4 = 12\n",
            "3 * 5 = 15\n",
            "3 * 6 = 18\n",
            "3 * 7 = 21\n",
            "3 * 8 = 24\n",
            "3 * 9 = 27\n",
            "4 * 1 = 4\n",
            "4 * 2 = 8\n",
            "4 * 3 = 12\n",
            "4 * 4 = 16\n",
            "4 * 5 = 20\n",
            "4 * 6 = 24\n",
            "4 * 7 = 28\n",
            "4 * 8 = 32\n",
            "4 * 9 = 36\n",
            "5 * 1 = 5\n",
            "5 * 2 = 10\n",
            "5 * 3 = 15\n",
            "5 * 4 = 20\n",
            "5 * 5 = 25\n",
            "5 * 6 = 30\n",
            "5 * 7 = 35\n",
            "5 * 8 = 40\n",
            "5 * 9 = 45\n",
            "6 * 1 = 6\n",
            "6 * 2 = 12\n",
            "6 * 3 = 18\n",
            "6 * 4 = 24\n",
            "6 * 5 = 30\n",
            "6 * 6 = 36\n",
            "6 * 7 = 42\n",
            "6 * 8 = 48\n",
            "6 * 9 = 54\n",
            "7 * 1 = 7\n",
            "7 * 2 = 14\n",
            "7 * 3 = 21\n",
            "7 * 4 = 28\n",
            "7 * 5 = 35\n",
            "7 * 6 = 42\n",
            "7 * 7 = 49\n",
            "7 * 8 = 56\n",
            "7 * 9 = 63\n",
            "8 * 1 = 8\n",
            "8 * 2 = 16\n",
            "8 * 3 = 24\n",
            "8 * 4 = 32\n",
            "8 * 5 = 40\n",
            "8 * 6 = 48\n",
            "8 * 7 = 56\n",
            "8 * 8 = 64\n",
            "8 * 9 = 72\n",
            "9 * 1 = 9\n",
            "9 * 2 = 18\n",
            "9 * 3 = 27\n",
            "9 * 4 = 36\n",
            "9 * 5 = 45\n",
            "9 * 6 = 54\n",
            "9 * 7 = 63\n",
            "9 * 8 = 72\n",
            "9 * 9 = 81\n"
          ]
        }
      ]
    },
    {
      "cell_type": "code",
      "source": [
        "for i in range(2, 10):\n",
        "    print(\"#############\")\n",
        "    print(i, \"단\")\n",
        "    for j in range(1, 10):\n",
        "        print(i, \"*\", j, \"=\", i*j)"
      ],
      "metadata": {
        "colab": {
          "base_uri": "https://localhost:8080/"
        },
        "id": "Tj9xd8ndrFKZ",
        "outputId": "184606ff-5a7a-4c07-bafd-62e4c0cbb78a"
      },
      "execution_count": null,
      "outputs": [
        {
          "output_type": "stream",
          "name": "stdout",
          "text": [
            "#############\n",
            "2 단\n",
            "2 * 1 = 2\n",
            "2 * 2 = 4\n",
            "2 * 3 = 6\n",
            "2 * 4 = 8\n",
            "2 * 5 = 10\n",
            "2 * 6 = 12\n",
            "2 * 7 = 14\n",
            "2 * 8 = 16\n",
            "2 * 9 = 18\n",
            "#############\n",
            "3 단\n",
            "3 * 1 = 3\n",
            "3 * 2 = 6\n",
            "3 * 3 = 9\n",
            "3 * 4 = 12\n",
            "3 * 5 = 15\n",
            "3 * 6 = 18\n",
            "3 * 7 = 21\n",
            "3 * 8 = 24\n",
            "3 * 9 = 27\n",
            "#############\n",
            "4 단\n",
            "4 * 1 = 4\n",
            "4 * 2 = 8\n",
            "4 * 3 = 12\n",
            "4 * 4 = 16\n",
            "4 * 5 = 20\n",
            "4 * 6 = 24\n",
            "4 * 7 = 28\n",
            "4 * 8 = 32\n",
            "4 * 9 = 36\n",
            "#############\n",
            "5 단\n",
            "5 * 1 = 5\n",
            "5 * 2 = 10\n",
            "5 * 3 = 15\n",
            "5 * 4 = 20\n",
            "5 * 5 = 25\n",
            "5 * 6 = 30\n",
            "5 * 7 = 35\n",
            "5 * 8 = 40\n",
            "5 * 9 = 45\n",
            "#############\n",
            "6 단\n",
            "6 * 1 = 6\n",
            "6 * 2 = 12\n",
            "6 * 3 = 18\n",
            "6 * 4 = 24\n",
            "6 * 5 = 30\n",
            "6 * 6 = 36\n",
            "6 * 7 = 42\n",
            "6 * 8 = 48\n",
            "6 * 9 = 54\n",
            "#############\n",
            "7 단\n",
            "7 * 1 = 7\n",
            "7 * 2 = 14\n",
            "7 * 3 = 21\n",
            "7 * 4 = 28\n",
            "7 * 5 = 35\n",
            "7 * 6 = 42\n",
            "7 * 7 = 49\n",
            "7 * 8 = 56\n",
            "7 * 9 = 63\n",
            "#############\n",
            "8 단\n",
            "8 * 1 = 8\n",
            "8 * 2 = 16\n",
            "8 * 3 = 24\n",
            "8 * 4 = 32\n",
            "8 * 5 = 40\n",
            "8 * 6 = 48\n",
            "8 * 7 = 56\n",
            "8 * 8 = 64\n",
            "8 * 9 = 72\n",
            "#############\n",
            "9 단\n",
            "9 * 1 = 9\n",
            "9 * 2 = 18\n",
            "9 * 3 = 27\n",
            "9 * 4 = 36\n",
            "9 * 5 = 45\n",
            "9 * 6 = 54\n",
            "9 * 7 = 63\n",
            "9 * 8 = 72\n",
            "9 * 9 = 81\n"
          ]
        }
      ]
    },
    {
      "cell_type": "markdown",
      "source": [
        "#6. While문 이해하기\n",
        "* while 기본구조 (while 조건문: 수행할문장)\n",
        "* while문은 조건문이 참인 동안에 while문 아래의 문장이 반복해서 수행된다."
      ],
      "metadata": {
        "id": "d_7FygI1IQZ-"
      }
    },
    {
      "cell_type": "markdown",
      "source": [
        "## 6-1. 열번 찍어 안 넘어가는 나무 없다"
      ],
      "metadata": {
        "id": "UhsfHd9habzg"
      }
    },
    {
      "cell_type": "code",
      "source": [
        "treehit = 0\n",
        "while treehit < 10:\n",
        "    treehit = treehit + 1\n",
        "    print(\"나무를 %d번 찍었습니다.\" % treehit)\n",
        "    if treehit == 10:\n",
        "        print(\"나무 넘어갑니다.\")"
      ],
      "metadata": {
        "id": "Fw_DnnbrZztx",
        "colab": {
          "base_uri": "https://localhost:8080/"
        },
        "outputId": "48b2abd4-b3c9-4681-c779-9e322a646b60"
      },
      "execution_count": null,
      "outputs": [
        {
          "output_type": "stream",
          "name": "stdout",
          "text": [
            "나무를 1번 찍었습니다.\n",
            "나무를 2번 찍었습니다.\n",
            "나무를 3번 찍었습니다.\n",
            "나무를 4번 찍었습니다.\n",
            "나무를 5번 찍었습니다.\n",
            "나무를 6번 찍었습니다.\n",
            "나무를 7번 찍었습니다.\n",
            "나무를 8번 찍었습니다.\n",
            "나무를 9번 찍었습니다.\n",
            "나무를 10번 찍었습니다.\n",
            "나무 넘어갑니다.\n"
          ]
        }
      ]
    },
    {
      "cell_type": "markdown",
      "source": [
        "##6-2. 음료수 자판기 (단, 음료수가 없으면 강제 판매 중지 하는 반복문을 만들어보자)"
      ],
      "metadata": {
        "id": "zd81a_iOaLAW"
      }
    },
    {
      "cell_type": "code",
      "source": [
        "drink = 20\n",
        "money = 30000\n",
        "#음료 가격은 500원"
      ],
      "metadata": {
        "id": "eUdDZrriajHF"
      },
      "execution_count": null,
      "outputs": []
    },
    {
      "cell_type": "code",
      "source": [
        "while drink > 0:\n",
        "    money = money - 500\n",
        "    drink = drink - 1\n",
        "    print(\"음료수를 %d개 뽑았습니다.\" % drink)\n",
        "    print(\"돈이 %d원 남았습니다.\" % money)\n",
        "    if drink == 0:\n",
        "        print(\"음료수 재고가 없습니다.\")\n",
        "    if money < 500:\n",
        "        print(\"돈이 부족합니다.\")"
      ],
      "metadata": {
        "id": "5YNW2OP2ao_w",
        "colab": {
          "base_uri": "https://localhost:8080/"
        },
        "outputId": "6554f1b6-3554-4069-d302-c7fd733600be"
      },
      "execution_count": null,
      "outputs": [
        {
          "output_type": "stream",
          "name": "stdout",
          "text": [
            "음료수를 19개 뽑았습니다.\n",
            "돈이 29500원 남았습니다.\n",
            "음료수를 18개 뽑았습니다.\n",
            "돈이 29000원 남았습니다.\n",
            "음료수를 17개 뽑았습니다.\n",
            "돈이 28500원 남았습니다.\n",
            "음료수를 16개 뽑았습니다.\n",
            "돈이 28000원 남았습니다.\n",
            "음료수를 15개 뽑았습니다.\n",
            "돈이 27500원 남았습니다.\n",
            "음료수를 14개 뽑았습니다.\n",
            "돈이 27000원 남았습니다.\n",
            "음료수를 13개 뽑았습니다.\n",
            "돈이 26500원 남았습니다.\n",
            "음료수를 12개 뽑았습니다.\n",
            "돈이 26000원 남았습니다.\n",
            "음료수를 11개 뽑았습니다.\n",
            "돈이 25500원 남았습니다.\n",
            "음료수를 10개 뽑았습니다.\n",
            "돈이 25000원 남았습니다.\n",
            "음료수를 9개 뽑았습니다.\n",
            "돈이 24500원 남았습니다.\n",
            "음료수를 8개 뽑았습니다.\n",
            "돈이 24000원 남았습니다.\n",
            "음료수를 7개 뽑았습니다.\n",
            "돈이 23500원 남았습니다.\n",
            "음료수를 6개 뽑았습니다.\n",
            "돈이 23000원 남았습니다.\n",
            "음료수를 5개 뽑았습니다.\n",
            "돈이 22500원 남았습니다.\n",
            "음료수를 4개 뽑았습니다.\n",
            "돈이 22000원 남았습니다.\n",
            "음료수를 3개 뽑았습니다.\n",
            "돈이 21500원 남았습니다.\n",
            "음료수를 2개 뽑았습니다.\n",
            "돈이 21000원 남았습니다.\n",
            "음료수를 1개 뽑았습니다.\n",
            "돈이 20500원 남았습니다.\n",
            "음료수를 0개 뽑았습니다.\n",
            "돈이 20000원 남았습니다.\n",
            "음료수 재고가 없습니다.\n"
          ]
        }
      ]
    },
    {
      "cell_type": "code",
      "source": [
        "print(\"돈이 충분한가요?\")\n",
        "if money >= 500:\n",
        "    print(\"yes\")\n",
        "else:\n",
        "    print(\"no\")"
      ],
      "metadata": {
        "id": "TyUHkKLNbadI",
        "colab": {
          "base_uri": "https://localhost:8080/"
        },
        "outputId": "00807514-ac38-4946-90b1-2974fb3a68b5"
      },
      "execution_count": null,
      "outputs": [
        {
          "output_type": "stream",
          "name": "stdout",
          "text": [
            "돈이 충분한가요?\n",
            "yes\n"
          ]
        }
      ]
    }
  ]
}